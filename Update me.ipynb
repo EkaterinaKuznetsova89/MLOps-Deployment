{
 "cells": [
  {
   "cell_type": "code",
   "execution_count": null,
   "id": "4b6162ed",
   "metadata": {},
   "outputs": [],
   "source": [
    "import time\n",
    "import money\n",
    "\n",
    "def coffee_time():\n",
    "    print(\"It's coffee time!\")"
   ]
  }
 ],
 "metadata": {
  "language_info": {
   "name": "python"
  }
 },
 "nbformat": 4,
 "nbformat_minor": 5
}
