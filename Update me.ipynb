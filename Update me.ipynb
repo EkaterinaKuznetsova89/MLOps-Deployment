{
 "cells": [
  {
   "cell_type": "code",
   "execution_count": 2,
   "id": "4b6162ed",
   "metadata": {},
   "outputs": [],
   "source": [
    "import time\n",
    "#import money\n",
    "\n",
    "def coffee_time(hour):\n",
    "    if hour in [7, 8, 9, 17, 18]:\n",
    "        return \"It's coffee time!\"\n",
    "    else: \n",
    "        return \"ALWAYS IS COFFEE TIME!!!!\""
   ]
  },
  {
   "cell_type": "code",
   "execution_count": 4,
   "id": "5d16e02d",
   "metadata": {},
   "outputs": [
    {
     "name": "stdout",
     "output_type": "stream",
     "text": [
      "It's 0 o clock ALWAYS IS COFFEE TIME!!!!\n",
      "It's 1 o clock ALWAYS IS COFFEE TIME!!!!\n",
      "It's 2 o clock ALWAYS IS COFFEE TIME!!!!\n",
      "It's 3 o clock ALWAYS IS COFFEE TIME!!!!\n",
      "It's 4 o clock ALWAYS IS COFFEE TIME!!!!\n",
      "It's 5 o clock ALWAYS IS COFFEE TIME!!!!\n",
      "It's 6 o clock ALWAYS IS COFFEE TIME!!!!\n",
      "It's 7 o clock It's coffee time!\n",
      "It's 8 o clock It's coffee time!\n",
      "It's 9 o clock It's coffee time!\n",
      "It's 10 o clock ALWAYS IS COFFEE TIME!!!!\n",
      "It's 11 o clock ALWAYS IS COFFEE TIME!!!!\n",
      "It's 12 o clock ALWAYS IS COFFEE TIME!!!!\n",
      "It's 13 o clock ALWAYS IS COFFEE TIME!!!!\n",
      "It's 14 o clock ALWAYS IS COFFEE TIME!!!!\n",
      "It's 15 o clock ALWAYS IS COFFEE TIME!!!!\n",
      "It's 16 o clock ALWAYS IS COFFEE TIME!!!!\n",
      "It's 17 o clock It's coffee time!\n",
      "It's 18 o clock It's coffee time!\n",
      "It's 19 o clock ALWAYS IS COFFEE TIME!!!!\n",
      "It's 20 o clock ALWAYS IS COFFEE TIME!!!!\n",
      "It's 21 o clock ALWAYS IS COFFEE TIME!!!!\n",
      "It's 22 o clock ALWAYS IS COFFEE TIME!!!!\n",
      "It's 23 o clock ALWAYS IS COFFEE TIME!!!!\n"
     ]
    }
   ],
   "source": [
    "for h in range(0, 24):\n",
    "    print(f\"It's {h} o clock\", coffee_time(h))\n",
    "    "
   ]
  },
  {
   "cell_type": "code",
   "execution_count": null,
   "id": "1eb4ff89",
   "metadata": {},
   "outputs": [
    {
     "name": "stdout",
     "output_type": "stream",
     "text": [
      "Is this where we get the sweets?\n",
      "Answer: There are 45 sweets\n",
      "\n",
      "That is good, bless you!\n"
     ]
    }
   ],
   "source": [
    "print('Is this where we get the sweets?')\n",
    "sweets = None\n",
    "while type(sweets) != int: \n",
    "    sweets = int(input('How many items of sweet are available?'))\n",
    "    \n",
    "print(f'Answer: There are {sweets} sweets.')\n",
    "print()\n",
    "if sweets > 0:\n",
    "    print('That is good, bless you!')\n",
    "else:\n",
    "    print('What the frick is this? Do you take me for a fool? No sweets? Unacceptable!')"
   ]
  }
 ],
 "metadata": {
  "kernelspec": {
   "display_name": "nlp.venv",
   "language": "python",
   "name": "python3"
  },
  "language_info": {
   "codemirror_mode": {
    "name": "ipython",
    "version": 3
   },
   "file_extension": ".py",
   "mimetype": "text/x-python",
   "name": "python",
   "nbconvert_exporter": "python",
   "pygments_lexer": "ipython3",
   "version": "3.12.3"
  }
 },
 "nbformat": 4,
 "nbformat_minor": 5
}
